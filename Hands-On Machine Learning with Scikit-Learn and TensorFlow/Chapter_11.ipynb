{
  "cells": [
    {
      "cell_type": "markdown",
      "metadata": {
        "id": "view-in-github",
        "colab_type": "text"
      },
      "source": [
        "<a href=\"https://colab.research.google.com/github/M-Rasit/Deep-Learning-Study-and-Projects/blob/main/Hands-On%20Machine%20Learning%20with%20Scikit-Learn%20and%20TensorFlow/Chapter_11.ipynb\" target=\"_parent\"><img src=\"https://colab.research.google.com/assets/colab-badge.svg\" alt=\"Open In Colab\"/></a>"
      ]
    },
    {
      "cell_type": "code",
      "execution_count": 1,
      "metadata": {
        "id": "AbZeqnAMKRcU"
      },
      "outputs": [],
      "source": [
        "import tensorflow as tf\n",
        "from tensorflow import keras\n",
        "assert tf.__version__ >= \"2.0\"\n",
        "import numpy as np\n",
        "import matplotlib.pyplot as plt"
      ]
    },
    {
      "cell_type": "markdown",
      "metadata": {
        "id": "obRO6ztcKoQX"
      },
      "source": [
        "**Tensorflow Intializers**"
      ]
    },
    {
      "cell_type": "code",
      "execution_count": 2,
      "metadata": {
        "colab": {
          "base_uri": "https://localhost:8080/"
        },
        "id": "ImvPtfmxKkYQ",
        "outputId": "527eec3e-cf0a-4a53-915b-e987d56084cc"
      },
      "outputs": [
        {
          "output_type": "execute_result",
          "data": {
            "text/plain": [
              "['Constant',\n",
              " 'GlorotNormal',\n",
              " 'GlorotUniform',\n",
              " 'HeNormal',\n",
              " 'HeUniform',\n",
              " 'Identity',\n",
              " 'Initializer',\n",
              " 'LecunNormal',\n",
              " 'LecunUniform',\n",
              " 'Ones',\n",
              " 'Orthogonal',\n",
              " 'RandomNormal',\n",
              " 'RandomUniform',\n",
              " 'TruncatedNormal',\n",
              " 'VarianceScaling',\n",
              " 'Zeros',\n",
              " 'constant',\n",
              " 'deserialize',\n",
              " 'get',\n",
              " 'glorot_normal',\n",
              " 'glorot_uniform',\n",
              " 'he_normal',\n",
              " 'he_uniform',\n",
              " 'identity',\n",
              " 'lecun_normal',\n",
              " 'lecun_uniform',\n",
              " 'ones',\n",
              " 'orthogonal',\n",
              " 'random_normal',\n",
              " 'random_uniform',\n",
              " 'serialize',\n",
              " 'truncated_normal',\n",
              " 'variance_scaling',\n",
              " 'zeros']"
            ]
          },
          "metadata": {},
          "execution_count": 2
        }
      ],
      "source": [
        "[name for name in dir(keras.initializers) if not name.startswith(\"_\")]"
      ]
    },
    {
      "cell_type": "markdown",
      "metadata": {
        "id": "JcZQeuqxQJgu"
      },
      "source": [
        "To use the leaky ReLU activation function, we must create a LeakyReLU instance"
      ]
    },
    {
      "cell_type": "code",
      "execution_count": null,
      "metadata": {
        "id": "Db5sqRscLL5H"
      },
      "outputs": [],
      "source": [
        "leaky_relu = keras.layers.LeakyReLU(alpha=0.2)\n",
        "layer = keras.layers.Dense(10, activation=leaky_relu,\n",
        "                           kernel_initializer=\"he_normal\")"
      ]
    },
    {
      "cell_type": "markdown",
      "metadata": {
        "id": "n5YmxtJ1Qg-w"
      },
      "source": [
        "For PReLU;"
      ]
    },
    {
      "cell_type": "code",
      "execution_count": null,
      "metadata": {
        "id": "lFAN9NjwQlgA"
      },
      "outputs": [],
      "source": [
        "prelu = keras.layers.PReLU()\n",
        "layer = keras.layers.Dense(10, activation=prelu,\n",
        "                           kernel_initializer=\"he_normal\")"
      ]
    },
    {
      "cell_type": "markdown",
      "metadata": {
        "id": "R9oO79-fQ1dM"
      },
      "source": [
        "for SELU activation, we need to use LeCUN as kernel_initializer"
      ]
    },
    {
      "cell_type": "code",
      "execution_count": null,
      "metadata": {
        "id": "KVK5n5lEREsQ"
      },
      "outputs": [],
      "source": [
        "layer = keras.layers.Dense(10, activation=\"selu\",\n",
        "                           kernel_initializer=\"lecun_normal\")"
      ]
    },
    {
      "cell_type": "markdown",
      "metadata": {
        "id": "XkS3l1d75idp"
      },
      "source": [
        "Training a neural network with Fashion MNIST dataset using SELU;"
      ]
    },
    {
      "cell_type": "code",
      "execution_count": 3,
      "metadata": {
        "colab": {
          "base_uri": "https://localhost:8080/"
        },
        "id": "A2Vukgq55qh4",
        "outputId": "52a618d9-b9bc-42cd-d81a-80ecfab79a1c"
      },
      "outputs": [
        {
          "output_type": "stream",
          "name": "stdout",
          "text": [
            "Downloading data from https://storage.googleapis.com/tensorflow/tf-keras-datasets/train-labels-idx1-ubyte.gz\n",
            "29515/29515 [==============================] - 0s 0us/step\n",
            "Downloading data from https://storage.googleapis.com/tensorflow/tf-keras-datasets/train-images-idx3-ubyte.gz\n",
            "26421880/26421880 [==============================] - 2s 0us/step\n",
            "Downloading data from https://storage.googleapis.com/tensorflow/tf-keras-datasets/t10k-labels-idx1-ubyte.gz\n",
            "5148/5148 [==============================] - 0s 0us/step\n",
            "Downloading data from https://storage.googleapis.com/tensorflow/tf-keras-datasets/t10k-images-idx3-ubyte.gz\n",
            "4422102/4422102 [==============================] - 0s 0us/step\n"
          ]
        }
      ],
      "source": [
        "(X_train_all, y_train_all), (X_test, y_test) = keras.datasets.fashion_mnist.load_data()\n",
        "X_train_all = X_train_all / 255\n",
        "X_test = X_test / 255\n",
        "X_valid, X_train = X_train_all[:5000], X_train_all[5000:]\n",
        "y_valid, y_train = y_train_all[:5000], y_train_all[5000:]"
      ]
    },
    {
      "cell_type": "code",
      "execution_count": 4,
      "metadata": {
        "id": "_oLAfRHa6u_v"
      },
      "outputs": [],
      "source": [
        "np.random.seed(1)\n",
        "tf.random.set_seed(1)"
      ]
    },
    {
      "cell_type": "code",
      "execution_count": null,
      "metadata": {
        "id": "JlQprbE56WRH"
      },
      "outputs": [],
      "source": [
        "model = keras.models.Sequential()\n",
        "model.add(keras.layers.Flatten(input_shape=[28, 28]))\n",
        "model.add(keras.layers.Dense(300, activation=\"selu\", kernel_initializer=\"lecun_normal\"))\n",
        "\n",
        "for layer in range(99):\n",
        "  model.add(keras.layers.Dense(100, activation=\"selu\", kernel_initializer=\"lecun_normal\"))\n",
        "\n",
        "model.add(keras.layers.Dense(10, activation=\"softmax\"))\n",
        "\n",
        "model.compile(loss=\"sparse_categorical_crossentropy\",\n",
        "              optimizer=keras.optimizers.SGD(learning_rate=1e-3),\n",
        "              metrics=[\"accuracy\"])\n"
      ]
    },
    {
      "cell_type": "markdown",
      "metadata": {
        "id": "3wjjB0ne9Bjv"
      },
      "source": [
        "We have to scale the inputs to mean 0 and standard deviation 1;"
      ]
    },
    {
      "cell_type": "code",
      "execution_count": 5,
      "metadata": {
        "id": "TuOgIxkM8YYn"
      },
      "outputs": [],
      "source": [
        "pixel_means = X_train.mean(axis=0, keepdims=True)\n",
        "pixel_stds = X_train.std(axis=0, keepdims=True)\n",
        "X_train_scaled = (X_train - pixel_means) / pixel_stds\n",
        "X_valid_scaled = (X_valid - pixel_means) / pixel_stds\n",
        "X_test_scaled = (X_test - pixel_means) / pixel_stds"
      ]
    },
    {
      "cell_type": "code",
      "execution_count": null,
      "metadata": {
        "colab": {
          "base_uri": "https://localhost:8080/"
        },
        "id": "njp-m6Ss8-Xq",
        "outputId": "e457ce0c-125a-4c0e-84ed-0be3aa132579"
      },
      "outputs": [
        {
          "name": "stdout",
          "output_type": "stream",
          "text": [
            "Epoch 1/5\n",
            "1719/1719 [==============================] - 44s 20ms/step - loss: 1.2531 - accuracy: 0.5341 - val_loss: 0.8964 - val_accuracy: 0.6898\n",
            "Epoch 2/5\n",
            "1719/1719 [==============================] - 33s 19ms/step - loss: 0.7643 - accuracy: 0.7230 - val_loss: 0.6466 - val_accuracy: 0.7710\n",
            "Epoch 3/5\n",
            "1719/1719 [==============================] - 35s 20ms/step - loss: 0.6431 - accuracy: 0.7649 - val_loss: 0.5967 - val_accuracy: 0.7826\n",
            "Epoch 4/5\n",
            "1719/1719 [==============================] - 33s 19ms/step - loss: 0.6410 - accuracy: 0.7650 - val_loss: 0.5713 - val_accuracy: 0.7936\n",
            "Epoch 5/5\n",
            "1719/1719 [==============================] - 33s 19ms/step - loss: 0.5403 - accuracy: 0.8067 - val_loss: 0.5084 - val_accuracy: 0.8262\n"
          ]
        }
      ],
      "source": [
        "history = model.fit(X_train_scaled, y_train, epochs=5, \n",
        "                    validation_data=[X_valid_scaled, y_valid])"
      ]
    },
    {
      "cell_type": "markdown",
      "metadata": {
        "id": "DsxDVSrA5NTf"
      },
      "source": [
        "**Batch Normalization**"
      ]
    },
    {
      "cell_type": "code",
      "execution_count": null,
      "metadata": {
        "id": "Y2XjeBmYRSdB"
      },
      "outputs": [],
      "source": [
        "model = keras.models.Sequential([\n",
        "    keras.layers.Flatten(input_shape=[28, 28]),\n",
        "    keras.layers.BatchNormalization(),\n",
        "    keras.layers.Dense(300, activation=\"relu\"),\n",
        "    keras.layers.BatchNormalization(),\n",
        "    keras.layers.Dense(100, activation=\"relu\"),\n",
        "    keras.layers.BatchNormalization(),\n",
        "    keras.layers.Dense(10, activation=\"softmax\")])"
      ]
    },
    {
      "cell_type": "code",
      "execution_count": null,
      "metadata": {
        "colab": {
          "base_uri": "https://localhost:8080/"
        },
        "id": "-uMj_cOrOzhm",
        "outputId": "e2740caa-f5cf-487b-da09-4da262da30b8"
      },
      "outputs": [
        {
          "name": "stdout",
          "output_type": "stream",
          "text": [
            "Model: \"sequential_1\"\n",
            "_________________________________________________________________\n",
            " Layer (type)                Output Shape              Param #   \n",
            "=================================================================\n",
            " flatten_1 (Flatten)         (None, 784)               0         \n",
            "                                                                 \n",
            " batch_normalization (BatchN  (None, 784)              3136      \n",
            " ormalization)                                                   \n",
            "                                                                 \n",
            " dense_104 (Dense)           (None, 300)               235500    \n",
            "                                                                 \n",
            " batch_normalization_1 (Batc  (None, 300)              1200      \n",
            " hNormalization)                                                 \n",
            "                                                                 \n",
            " dense_105 (Dense)           (None, 100)               30100     \n",
            "                                                                 \n",
            " batch_normalization_2 (Batc  (None, 100)              400       \n",
            " hNormalization)                                                 \n",
            "                                                                 \n",
            " dense_106 (Dense)           (None, 10)                1010      \n",
            "                                                                 \n",
            "=================================================================\n",
            "Total params: 271,346\n",
            "Trainable params: 268,978\n",
            "Non-trainable params: 2,368\n",
            "_________________________________________________________________\n"
          ]
        }
      ],
      "source": [
        "model.summary()"
      ]
    },
    {
      "cell_type": "code",
      "execution_count": null,
      "metadata": {
        "colab": {
          "base_uri": "https://localhost:8080/"
        },
        "id": "3CbXmXcCO129",
        "outputId": "c56b93f1-9ab2-4e3c-b402-ea8329226761"
      },
      "outputs": [
        {
          "data": {
            "text/plain": [
              "[('batch_normalization/gamma:0', True),\n",
              " ('batch_normalization/beta:0', True),\n",
              " ('batch_normalization/moving_mean:0', False),\n",
              " ('batch_normalization/moving_variance:0', False)]"
            ]
          },
          "execution_count": 13,
          "metadata": {},
          "output_type": "execute_result"
        }
      ],
      "source": [
        "[(variables.name, variables.trainable) for variables in model.layers[1].variables]"
      ]
    },
    {
      "cell_type": "code",
      "execution_count": null,
      "metadata": {
        "id": "hqXYdFvwPT4O"
      },
      "outputs": [],
      "source": [
        "model.compile(loss=\"sparse_categorical_crossentropy\",\n",
        "              optimizer=keras.optimizers.SGD(learning_rate=1e-3),\n",
        "              metrics=[\"accuracy\"])"
      ]
    },
    {
      "cell_type": "code",
      "execution_count": null,
      "metadata": {
        "colab": {
          "base_uri": "https://localhost:8080/"
        },
        "id": "0gtizRvYQ_TH",
        "outputId": "404e137a-e8c2-41d5-dfc5-4926878217bf"
      },
      "outputs": [
        {
          "name": "stdout",
          "output_type": "stream",
          "text": [
            "Epoch 1/10\n",
            "1719/1719 [==============================] - 13s 7ms/step - loss: 0.8508 - accuracy: 0.7146 - val_loss: 0.5495 - val_accuracy: 0.8148\n",
            "Epoch 2/10\n",
            "1719/1719 [==============================] - 12s 7ms/step - loss: 0.5815 - accuracy: 0.7981 - val_loss: 0.4750 - val_accuracy: 0.8376\n",
            "Epoch 3/10\n",
            "1719/1719 [==============================] - 12s 7ms/step - loss: 0.5184 - accuracy: 0.8184 - val_loss: 0.4383 - val_accuracy: 0.8504\n",
            "Epoch 4/10\n",
            "1719/1719 [==============================] - 12s 7ms/step - loss: 0.4869 - accuracy: 0.8295 - val_loss: 0.4163 - val_accuracy: 0.8576\n",
            "Epoch 5/10\n",
            "1719/1719 [==============================] - 12s 7ms/step - loss: 0.4632 - accuracy: 0.8369 - val_loss: 0.3995 - val_accuracy: 0.8624\n",
            "Epoch 6/10\n",
            "1719/1719 [==============================] - 12s 7ms/step - loss: 0.4430 - accuracy: 0.8437 - val_loss: 0.3868 - val_accuracy: 0.8674\n",
            "Epoch 7/10\n",
            "1719/1719 [==============================] - 12s 7ms/step - loss: 0.4277 - accuracy: 0.8498 - val_loss: 0.3796 - val_accuracy: 0.8702\n",
            "Epoch 8/10\n",
            "1719/1719 [==============================] - 12s 7ms/step - loss: 0.4128 - accuracy: 0.8522 - val_loss: 0.3712 - val_accuracy: 0.8716\n",
            "Epoch 9/10\n",
            "1719/1719 [==============================] - 13s 7ms/step - loss: 0.4040 - accuracy: 0.8555 - val_loss: 0.3643 - val_accuracy: 0.8728\n",
            "Epoch 10/10\n",
            "1719/1719 [==============================] - 12s 7ms/step - loss: 0.3942 - accuracy: 0.8593 - val_loss: 0.3604 - val_accuracy: 0.8706\n"
          ]
        }
      ],
      "source": [
        "history = model.fit(X_train, y_train, epochs=10, \n",
        "                    validation_data=(X_valid, y_valid))"
      ]
    },
    {
      "cell_type": "markdown",
      "metadata": {
        "id": "z6FhqYOLUyNi"
      },
      "source": [
        "Applying Batch Normalization before the activation function. We can use \"use_bias=False\" because BatchNormalization layer has some bias term too."
      ]
    },
    {
      "cell_type": "code",
      "execution_count": null,
      "metadata": {
        "id": "eCG-GiqpRIv9"
      },
      "outputs": [],
      "source": [
        "model = keras.models.Sequential([\n",
        "    keras.layers.Flatten(input_shape=[28, 28]),\n",
        "    keras.layers.BatchNormalization(),\n",
        "    keras.layers.Dense(300, use_bias=False),\n",
        "    keras.layers.BatchNormalization(),\n",
        "    keras.layers.Activation(\"relu\"),\n",
        "    keras.layers.Dense(100, use_bias=False),\n",
        "    keras.layers.BatchNormalization(),\n",
        "    keras.layers.Activation(\"relu\"),\n",
        "    keras.layers.Dense(10, activation=\"softmax\")\n",
        "])"
      ]
    },
    {
      "cell_type": "code",
      "execution_count": null,
      "metadata": {
        "id": "ZTBvoXB6QzCI"
      },
      "outputs": [],
      "source": [
        "model.compile(loss=\"sparse_categorical_crossentropy\", \n",
        "              optimizer=keras.optimizers.SGD(1e-3),\n",
        "              metrics=[\"accuracy\"])"
      ]
    },
    {
      "cell_type": "code",
      "execution_count": null,
      "metadata": {
        "colab": {
          "base_uri": "https://localhost:8080/"
        },
        "id": "eWNvWeTiQtRD",
        "outputId": "9059fdb6-77e4-466c-b3e4-7a5b1436b858"
      },
      "outputs": [
        {
          "name": "stdout",
          "output_type": "stream",
          "text": [
            "Epoch 1/10\n",
            "1719/1719 [==============================] - 14s 7ms/step - loss: 1.0306 - accuracy: 0.6815 - val_loss: 0.6691 - val_accuracy: 0.7932\n",
            "Epoch 2/10\n",
            "1719/1719 [==============================] - 12s 7ms/step - loss: 0.6799 - accuracy: 0.7820 - val_loss: 0.5549 - val_accuracy: 0.8242\n",
            "Epoch 3/10\n",
            "1719/1719 [==============================] - 13s 7ms/step - loss: 0.5927 - accuracy: 0.8057 - val_loss: 0.4989 - val_accuracy: 0.8378\n",
            "Epoch 4/10\n",
            "1719/1719 [==============================] - 12s 7ms/step - loss: 0.5451 - accuracy: 0.8167 - val_loss: 0.4644 - val_accuracy: 0.8490\n",
            "Epoch 5/10\n",
            "1719/1719 [==============================] - 13s 7ms/step - loss: 0.5160 - accuracy: 0.8250 - val_loss: 0.4411 - val_accuracy: 0.8554\n",
            "Epoch 6/10\n",
            "1719/1719 [==============================] - 12s 7ms/step - loss: 0.4912 - accuracy: 0.8323 - val_loss: 0.4241 - val_accuracy: 0.8596\n",
            "Epoch 7/10\n",
            "1719/1719 [==============================] - 13s 7ms/step - loss: 0.4711 - accuracy: 0.8389 - val_loss: 0.4115 - val_accuracy: 0.8612\n",
            "Epoch 8/10\n",
            "1719/1719 [==============================] - 12s 7ms/step - loss: 0.4552 - accuracy: 0.8443 - val_loss: 0.4004 - val_accuracy: 0.8630\n",
            "Epoch 9/10\n",
            "1719/1719 [==============================] - 12s 7ms/step - loss: 0.4446 - accuracy: 0.8455 - val_loss: 0.3907 - val_accuracy: 0.8654\n",
            "Epoch 10/10\n",
            "1719/1719 [==============================] - 12s 7ms/step - loss: 0.4334 - accuracy: 0.8501 - val_loss: 0.3844 - val_accuracy: 0.8670\n"
          ]
        },
        {
          "data": {
            "text/plain": [
              "<keras.callbacks.History at 0x7fad4a0e04c0>"
            ]
          },
          "execution_count": 7,
          "metadata": {},
          "output_type": "execute_result"
        }
      ],
      "source": [
        "model.fit(X_train, y_train, epochs=10,\n",
        "          validation_data=[X_valid, y_valid])"
      ]
    },
    {
      "cell_type": "markdown",
      "metadata": {
        "id": "_k8n2FMhy52Y"
      },
      "source": [
        "**Gradient Clipping**"
      ]
    },
    {
      "cell_type": "code",
      "execution_count": null,
      "metadata": {
        "id": "g2swFiFdQeHx"
      },
      "outputs": [],
      "source": [
        "optimizer = keras.optimizer.SGD(clipvalue=1)\n",
        "optimizer = keras.optimizer.SGD(clipnorm=1)"
      ]
    },
    {
      "cell_type": "markdown",
      "metadata": {
        "id": "HVCbzANI-O_e"
      },
      "source": [
        "**Reusing Pretrained Layers**"
      ]
    },
    {
      "cell_type": "code",
      "execution_count": null,
      "metadata": {
        "id": "7az2DmfZP_9n"
      },
      "outputs": [],
      "source": [
        "def split_dataset(X, y):\n",
        "    y_8_or_9 = (y == 8) | (y == 9)\n",
        "    y_A = y[~y_8_or_9]\n",
        "    y_B = (y[y_8_or_9] == 9).astype(np.float32) # binary classification task: is it a shirt (class 6)?\n",
        "    return ((X[~y_8_or_9], y_A),\n",
        "            (X[y_8_or_9], y_B))\n",
        "\n",
        "(X_train_A, y_train_A), (X_train_B, y_train_B) = split_dataset(X_train, y_train)\n",
        "(X_valid_A, y_valid_A), (X_valid_B, y_valid_B) = split_dataset(X_valid, y_valid)\n",
        "(X_test_A, y_test_A), (X_test_B, y_test_B) = split_dataset(X_test, y_test)\n",
        "X_train_B = X_train_B[:200]\n",
        "y_train_B = y_train_B[:200]\n"
      ]
    },
    {
      "cell_type": "code",
      "execution_count": null,
      "metadata": {
        "colab": {
          "base_uri": "https://localhost:8080/"
        },
        "id": "YJCbPWBMP7c7",
        "outputId": "236ec40a-8d94-483c-e531-1cd1c6f824dc"
      },
      "outputs": [
        {
          "name": "stdout",
          "output_type": "stream",
          "text": [
            "X_train_A shape: (43996, 28, 28)\n",
            "X_train_B shape: (200, 28, 28)\n"
          ]
        }
      ],
      "source": [
        "print(\"X_train_A shape:\", X_train_A.shape)\n",
        "print(\"X_train_B shape:\", X_train_B.shape)"
      ]
    },
    {
      "cell_type": "code",
      "execution_count": null,
      "metadata": {
        "id": "gSfC9RytLFaZ"
      },
      "outputs": [],
      "source": [
        "model_A = keras.models.Sequential()\n",
        "model_A.add(keras.layers.Flatten(input_shape=[28, 28]))\n",
        "for i in (300, 100, 50, 50, 50):\n",
        "  model_A.add(keras.layers.Dense(i, activation=\"selu\"))\n",
        "model_A.add(keras.layers.Dense(8, activation=\"softmax\"))"
      ]
    },
    {
      "cell_type": "code",
      "execution_count": null,
      "metadata": {
        "id": "-4-d8gygKfk5"
      },
      "outputs": [],
      "source": [
        "model_A.compile(loss=\"sparse_categorical_crossentropy\",\n",
        "                optimizer=keras.optimizers.SGD(learning_rate=1e-3),\n",
        "                metrics=[\"accuracy\"])"
      ]
    },
    {
      "cell_type": "code",
      "execution_count": null,
      "metadata": {
        "colab": {
          "base_uri": "https://localhost:8080/"
        },
        "id": "SkxozEoKKZcY",
        "outputId": "edc950e0-82b8-4ea8-969d-16d3f733de53"
      },
      "outputs": [
        {
          "name": "stdout",
          "output_type": "stream",
          "text": [
            "Epoch 1/20\n",
            "1375/1375 [==============================] - 8s 6ms/step - loss: 0.7643 - accuracy: 0.7189 - val_loss: 0.5864 - val_accuracy: 0.7975\n",
            "Epoch 2/20\n",
            "1375/1375 [==============================] - 9s 7ms/step - loss: 0.5598 - accuracy: 0.7956 - val_loss: 0.5102 - val_accuracy: 0.8202\n",
            "Epoch 3/20\n",
            "1375/1375 [==============================] - 9s 6ms/step - loss: 0.5079 - accuracy: 0.8126 - val_loss: 0.4783 - val_accuracy: 0.8267\n",
            "Epoch 4/20\n",
            "1375/1375 [==============================] - 8s 6ms/step - loss: 0.4780 - accuracy: 0.8217 - val_loss: 0.4571 - val_accuracy: 0.8344\n",
            "Epoch 5/20\n",
            "1375/1375 [==============================] - 8s 6ms/step - loss: 0.4591 - accuracy: 0.8295 - val_loss: 0.4441 - val_accuracy: 0.8394\n",
            "Epoch 6/20\n",
            "1375/1375 [==============================] - 7s 5ms/step - loss: 0.4445 - accuracy: 0.8337 - val_loss: 0.4357 - val_accuracy: 0.8452\n",
            "Epoch 7/20\n",
            "1375/1375 [==============================] - 7s 5ms/step - loss: 0.4320 - accuracy: 0.8395 - val_loss: 0.4247 - val_accuracy: 0.8469\n",
            "Epoch 8/20\n",
            "1375/1375 [==============================] - 7s 5ms/step - loss: 0.4226 - accuracy: 0.8424 - val_loss: 0.4159 - val_accuracy: 0.8489\n",
            "Epoch 9/20\n",
            "1375/1375 [==============================] - 8s 6ms/step - loss: 0.4137 - accuracy: 0.8458 - val_loss: 0.4204 - val_accuracy: 0.8509\n",
            "Epoch 10/20\n",
            "1375/1375 [==============================] - 8s 6ms/step - loss: 0.4068 - accuracy: 0.8484 - val_loss: 0.4054 - val_accuracy: 0.8509\n",
            "Epoch 11/20\n",
            "1375/1375 [==============================] - 8s 6ms/step - loss: 0.3998 - accuracy: 0.8507 - val_loss: 0.4020 - val_accuracy: 0.8529\n",
            "Epoch 12/20\n",
            "1375/1375 [==============================] - 8s 5ms/step - loss: 0.3942 - accuracy: 0.8530 - val_loss: 0.4007 - val_accuracy: 0.8514\n",
            "Epoch 13/20\n",
            "1375/1375 [==============================] - 8s 6ms/step - loss: 0.3891 - accuracy: 0.8556 - val_loss: 0.3974 - val_accuracy: 0.8546\n",
            "Epoch 14/20\n",
            "1375/1375 [==============================] - 8s 6ms/step - loss: 0.3843 - accuracy: 0.8581 - val_loss: 0.4171 - val_accuracy: 0.8439\n",
            "Epoch 15/20\n",
            "1375/1375 [==============================] - 8s 6ms/step - loss: 0.3799 - accuracy: 0.8582 - val_loss: 0.3893 - val_accuracy: 0.8594\n",
            "Epoch 16/20\n",
            "1375/1375 [==============================] - 8s 5ms/step - loss: 0.3749 - accuracy: 0.8618 - val_loss: 0.3867 - val_accuracy: 0.8601\n",
            "Epoch 17/20\n",
            "1375/1375 [==============================] - 8s 5ms/step - loss: 0.3711 - accuracy: 0.8627 - val_loss: 0.3856 - val_accuracy: 0.8561\n",
            "Epoch 18/20\n",
            "1375/1375 [==============================] - 8s 6ms/step - loss: 0.3674 - accuracy: 0.8632 - val_loss: 0.3825 - val_accuracy: 0.8614\n",
            "Epoch 19/20\n",
            "1375/1375 [==============================] - 9s 7ms/step - loss: 0.3638 - accuracy: 0.8660 - val_loss: 0.3765 - val_accuracy: 0.8614\n",
            "Epoch 20/20\n",
            "1375/1375 [==============================] - 11s 8ms/step - loss: 0.3603 - accuracy: 0.8660 - val_loss: 0.3805 - val_accuracy: 0.8589\n"
          ]
        }
      ],
      "source": [
        "history = model_A.fit(X_train_A, y_train_A, epochs=20,\n",
        "                      validation_data=[X_valid_A, y_valid_A])"
      ]
    },
    {
      "cell_type": "code",
      "execution_count": null,
      "metadata": {
        "id": "zj66OTtfKWQx"
      },
      "outputs": [],
      "source": [
        "model_A.save(\"my_model_A.h5\")"
      ]
    },
    {
      "cell_type": "code",
      "execution_count": null,
      "metadata": {
        "id": "_fhx-syVIA12"
      },
      "outputs": [],
      "source": [
        "model_B = keras.models.Sequential()\n",
        "model_B.add(keras.layers.Flatten(input_shape=[28, 28]))\n",
        "for n_hidden in (300, 100, 50, 50, 50):\n",
        "    model_B.add(keras.layers.Dense(n_hidden, activation=\"selu\"))\n",
        "model_B.add(keras.layers.Dense(1, activation=\"sigmoid\"))"
      ]
    },
    {
      "cell_type": "code",
      "execution_count": null,
      "metadata": {
        "id": "TEqVqvFzICOZ"
      },
      "outputs": [],
      "source": [
        "model_B.compile(loss=\"binary_crossentropy\",\n",
        "                optimizer=keras.optimizers.SGD(learning_rate=1e-3),\n",
        "                metrics=[\"accuracy\"])"
      ]
    },
    {
      "cell_type": "code",
      "execution_count": null,
      "metadata": {
        "colab": {
          "base_uri": "https://localhost:8080/"
        },
        "id": "KG7MvYxqICwd",
        "outputId": "9f1ca5e0-1211-4630-d8ba-f40a26db361a"
      },
      "outputs": [
        {
          "name": "stdout",
          "output_type": "stream",
          "text": [
            "Epoch 1/20\n",
            "7/7 [==============================] - 1s 98ms/step - loss: 0.5702 - accuracy: 0.7050 - val_loss: 0.5124 - val_accuracy: 0.7992\n",
            "Epoch 2/20\n",
            "7/7 [==============================] - 0s 30ms/step - loss: 0.4642 - accuracy: 0.8500 - val_loss: 0.4359 - val_accuracy: 0.8564\n",
            "Epoch 3/20\n",
            "7/7 [==============================] - 0s 33ms/step - loss: 0.3888 - accuracy: 0.8950 - val_loss: 0.3806 - val_accuracy: 0.8896\n",
            "Epoch 4/20\n",
            "7/7 [==============================] - 0s 40ms/step - loss: 0.3337 - accuracy: 0.9350 - val_loss: 0.3249 - val_accuracy: 0.9237\n",
            "Epoch 5/20\n",
            "7/7 [==============================] - 0s 63ms/step - loss: 0.2887 - accuracy: 0.9400 - val_loss: 0.2942 - val_accuracy: 0.9327\n",
            "Epoch 6/20\n",
            "7/7 [==============================] - 0s 23ms/step - loss: 0.2569 - accuracy: 0.9450 - val_loss: 0.2595 - val_accuracy: 0.9468\n",
            "Epoch 7/20\n",
            "7/7 [==============================] - 0s 31ms/step - loss: 0.2269 - accuracy: 0.9600 - val_loss: 0.2324 - val_accuracy: 0.9568\n",
            "Epoch 8/20\n",
            "7/7 [==============================] - 0s 48ms/step - loss: 0.2038 - accuracy: 0.9600 - val_loss: 0.2101 - val_accuracy: 0.9629\n",
            "Epoch 9/20\n",
            "7/7 [==============================] - 0s 28ms/step - loss: 0.1849 - accuracy: 0.9750 - val_loss: 0.1952 - val_accuracy: 0.9639\n",
            "Epoch 10/20\n",
            "7/7 [==============================] - 0s 32ms/step - loss: 0.1693 - accuracy: 0.9750 - val_loss: 0.1790 - val_accuracy: 0.9679\n",
            "Epoch 11/20\n",
            "7/7 [==============================] - 0s 39ms/step - loss: 0.1555 - accuracy: 0.9800 - val_loss: 0.1647 - val_accuracy: 0.9749\n",
            "Epoch 12/20\n",
            "7/7 [==============================] - 0s 58ms/step - loss: 0.1431 - accuracy: 0.9800 - val_loss: 0.1542 - val_accuracy: 0.9759\n",
            "Epoch 13/20\n",
            "7/7 [==============================] - 0s 34ms/step - loss: 0.1339 - accuracy: 0.9800 - val_loss: 0.1452 - val_accuracy: 0.9789\n",
            "Epoch 14/20\n",
            "7/7 [==============================] - 0s 37ms/step - loss: 0.1249 - accuracy: 0.9850 - val_loss: 0.1371 - val_accuracy: 0.9799\n",
            "Epoch 15/20\n",
            "7/7 [==============================] - 0s 58ms/step - loss: 0.1176 - accuracy: 0.9850 - val_loss: 0.1316 - val_accuracy: 0.9809\n",
            "Epoch 16/20\n",
            "7/7 [==============================] - 0s 36ms/step - loss: 0.1108 - accuracy: 0.9850 - val_loss: 0.1234 - val_accuracy: 0.9829\n",
            "Epoch 17/20\n",
            "7/7 [==============================] - 0s 34ms/step - loss: 0.1048 - accuracy: 0.9850 - val_loss: 0.1165 - val_accuracy: 0.9859\n",
            "Epoch 18/20\n",
            "7/7 [==============================] - 0s 33ms/step - loss: 0.0997 - accuracy: 0.9850 - val_loss: 0.1115 - val_accuracy: 0.9869\n",
            "Epoch 19/20\n",
            "7/7 [==============================] - 0s 32ms/step - loss: 0.0953 - accuracy: 0.9850 - val_loss: 0.1071 - val_accuracy: 0.9869\n",
            "Epoch 20/20\n",
            "7/7 [==============================] - 0s 26ms/step - loss: 0.0911 - accuracy: 0.9900 - val_loss: 0.1065 - val_accuracy: 0.9849\n"
          ]
        }
      ],
      "source": [
        "history = model_B.fit(X_train_B, y_train_B, epochs=20,\n",
        "                      validation_data=(X_valid_B, y_valid_B))"
      ]
    },
    {
      "cell_type": "code",
      "execution_count": null,
      "metadata": {
        "id": "AciXAOGOISb3"
      },
      "outputs": [],
      "source": [
        "model_A = keras.models.load_model(\"my_model_A.h5\")\n",
        "model_A_clone = keras.models.clone_model(model_A)\n",
        "model_A_clone.set_weights(model_A.get_weights())\n",
        "model_B_on_A = keras.models.Sequential(model_A_clone.layers[:-1])\n",
        "model_B_on_A.add(keras.layers.Dense(1,activation=\"sigmoid\"))"
      ]
    },
    {
      "cell_type": "code",
      "execution_count": null,
      "metadata": {
        "id": "j5yvo0D8JSNi"
      },
      "outputs": [],
      "source": [
        "for layer in model_B_on_A.layers[:-1]:\n",
        "  layer.trainable=False\n",
        "\n",
        "model_B_on_A.compile(loss=\"binary_crossentropy\",\n",
        "                     optimizer=keras.optimizers.SGD(learning_rate=1e-3),\n",
        "                     metrics=[\"accuracy\"])"
      ]
    },
    {
      "cell_type": "code",
      "execution_count": null,
      "metadata": {
        "colab": {
          "base_uri": "https://localhost:8080/"
        },
        "id": "mqrXNXiMJfVv",
        "outputId": "e3396afe-d876-448b-fa2f-bcf6767a9fb6"
      },
      "outputs": [
        {
          "name": "stdout",
          "output_type": "stream",
          "text": [
            "Epoch 1/4\n",
            "7/7 [==============================] - 0s 37ms/step - loss: 0.7301 - accuracy: 0.5550 - val_loss: 0.6924 - val_accuracy: 0.6305\n",
            "Epoch 2/4\n",
            "7/7 [==============================] - 0s 20ms/step - loss: 0.6934 - accuracy: 0.6000 - val_loss: 0.6561 - val_accuracy: 0.6586\n",
            "Epoch 3/4\n",
            "7/7 [==============================] - 0s 30ms/step - loss: 0.6588 - accuracy: 0.6300 - val_loss: 0.6273 - val_accuracy: 0.6787\n",
            "Epoch 4/4\n",
            "7/7 [==============================] - 0s 30ms/step - loss: 0.6309 - accuracy: 0.6450 - val_loss: 0.5994 - val_accuracy: 0.6998\n",
            "Epoch 1/16\n",
            "7/7 [==============================] - 1s 57ms/step - loss: 0.5363 - accuracy: 0.7350 - val_loss: 0.4271 - val_accuracy: 0.8143\n",
            "Epoch 2/16\n",
            "7/7 [==============================] - 0s 23ms/step - loss: 0.3886 - accuracy: 0.8650 - val_loss: 0.3210 - val_accuracy: 0.8966\n",
            "Epoch 3/16\n",
            "7/7 [==============================] - 0s 31ms/step - loss: 0.2949 - accuracy: 0.9400 - val_loss: 0.2665 - val_accuracy: 0.9347\n",
            "Epoch 4/16\n",
            "7/7 [==============================] - 0s 32ms/step - loss: 0.2411 - accuracy: 0.9450 - val_loss: 0.2163 - val_accuracy: 0.9588\n",
            "Epoch 5/16\n",
            "7/7 [==============================] - 0s 20ms/step - loss: 0.2011 - accuracy: 0.9600 - val_loss: 0.1924 - val_accuracy: 0.9618\n",
            "Epoch 6/16\n",
            "7/7 [==============================] - 0s 33ms/step - loss: 0.1726 - accuracy: 0.9750 - val_loss: 0.1638 - val_accuracy: 0.9709\n",
            "Epoch 7/16\n",
            "7/7 [==============================] - 0s 21ms/step - loss: 0.1499 - accuracy: 0.9800 - val_loss: 0.1463 - val_accuracy: 0.9769\n",
            "Epoch 8/16\n",
            "7/7 [==============================] - 0s 33ms/step - loss: 0.1333 - accuracy: 0.9850 - val_loss: 0.1302 - val_accuracy: 0.9829\n",
            "Epoch 9/16\n",
            "7/7 [==============================] - 0s 33ms/step - loss: 0.1198 - accuracy: 0.9900 - val_loss: 0.1206 - val_accuracy: 0.9829\n",
            "Epoch 10/16\n",
            "7/7 [==============================] - 0s 33ms/step - loss: 0.1111 - accuracy: 0.9900 - val_loss: 0.1111 - val_accuracy: 0.9859\n",
            "Epoch 11/16\n",
            "7/7 [==============================] - 0s 23ms/step - loss: 0.1027 - accuracy: 0.9900 - val_loss: 0.1048 - val_accuracy: 0.9859\n",
            "Epoch 12/16\n",
            "7/7 [==============================] - 0s 22ms/step - loss: 0.0959 - accuracy: 0.9900 - val_loss: 0.0979 - val_accuracy: 0.9869\n",
            "Epoch 13/16\n",
            "7/7 [==============================] - 0s 35ms/step - loss: 0.0905 - accuracy: 0.9900 - val_loss: 0.0928 - val_accuracy: 0.9869\n",
            "Epoch 14/16\n",
            "7/7 [==============================] - 0s 21ms/step - loss: 0.0859 - accuracy: 0.9900 - val_loss: 0.0883 - val_accuracy: 0.9869\n",
            "Epoch 15/16\n",
            "7/7 [==============================] - 0s 20ms/step - loss: 0.0818 - accuracy: 0.9900 - val_loss: 0.0847 - val_accuracy: 0.9869\n",
            "Epoch 16/16\n",
            "7/7 [==============================] - 0s 33ms/step - loss: 0.0781 - accuracy: 0.9900 - val_loss: 0.0809 - val_accuracy: 0.9880\n"
          ]
        }
      ],
      "source": [
        "history = model_B_on_A.fit(X_train_B, y_train_B, epochs=4,\n",
        "                           validation_data=(X_valid_B, y_valid_B))\n",
        "\n",
        "for layer in model_B_on_A.layers[:-1]:\n",
        "    layer.trainable = True\n",
        "\n",
        "model_B_on_A.compile(loss=\"binary_crossentropy\",\n",
        "                     optimizer=keras.optimizers.SGD(learning_rate=1e-3),\n",
        "                     metrics=[\"accuracy\"])\n",
        "history = model_B_on_A.fit(X_train_B, y_train_B, epochs=16,\n",
        "                           validation_data=(X_valid_B, y_valid_B))"
      ]
    },
    {
      "cell_type": "code",
      "execution_count": null,
      "metadata": {
        "colab": {
          "base_uri": "https://localhost:8080/"
        },
        "id": "voG1iNG0JlKH",
        "outputId": "76e3ffbe-ad96-4668-c895-a665388bdcb0"
      },
      "outputs": [
        {
          "name": "stdout",
          "output_type": "stream",
          "text": [
            "63/63 [==============================] - 0s 6ms/step - loss: 0.0979 - accuracy: 0.9890\n"
          ]
        },
        {
          "data": {
            "text/plain": [
              "[0.0978974848985672, 0.9890000224113464]"
            ]
          },
          "execution_count": 27,
          "metadata": {},
          "output_type": "execute_result"
        }
      ],
      "source": [
        "model_B.evaluate(X_test_B, y_test_B)"
      ]
    },
    {
      "cell_type": "code",
      "execution_count": null,
      "metadata": {
        "colab": {
          "base_uri": "https://localhost:8080/"
        },
        "id": "vnEww_mcJ3mH",
        "outputId": "35278e91-f724-4ca9-e57a-abb68c5a1221"
      },
      "outputs": [
        {
          "name": "stdout",
          "output_type": "stream",
          "text": [
            "63/63 [==============================] - 0s 3ms/step - loss: 0.0838 - accuracy: 0.9825\n"
          ]
        },
        {
          "data": {
            "text/plain": [
              "[0.08375254273414612, 0.9825000166893005]"
            ]
          },
          "execution_count": 28,
          "metadata": {},
          "output_type": "execute_result"
        }
      ],
      "source": [
        "model_B_on_A.evaluate(X_test_B, y_test_B)"
      ]
    },
    {
      "cell_type": "markdown",
      "metadata": {
        "id": "UXN5IBNzTMXm"
      },
      "source": [
        "**Faster Optimizers**"
      ]
    },
    {
      "cell_type": "markdown",
      "metadata": {
        "id": "48iRIV5wTP-o"
      },
      "source": [
        "*Momentum Optimization*"
      ]
    },
    {
      "cell_type": "code",
      "execution_count": null,
      "metadata": {
        "id": "Z1YMMDBUJ56P"
      },
      "outputs": [],
      "source": [
        "optimizer = keras.optimizers.SGD(learning_rate=1e-3, momentum=0.9)"
      ]
    },
    {
      "cell_type": "markdown",
      "metadata": {
        "id": "-Nk16QfIrd5I"
      },
      "source": [
        "*Nesterov Accelerated Gradient*"
      ]
    },
    {
      "cell_type": "code",
      "execution_count": null,
      "metadata": {
        "id": "xqH7sspOrdWW"
      },
      "outputs": [],
      "source": [
        "optimizer = keras.optimizers.SGD(learning_rate=1e-3, momentum=0.9, nesterov=True)"
      ]
    },
    {
      "cell_type": "markdown",
      "metadata": {
        "id": "Rqx1BqIUsnQp"
      },
      "source": [
        "*AdaGrad* (It can be used for simpler tasks such as Linear Regression)"
      ]
    },
    {
      "cell_type": "code",
      "execution_count": null,
      "metadata": {
        "id": "856rfP93s3qF"
      },
      "outputs": [],
      "source": [
        "optimizer = keras.optimizers.AdaGrad(learning_rate=1e-3)"
      ]
    },
    {
      "cell_type": "markdown",
      "metadata": {
        "id": "Xa4uTUu9tQ4e"
      },
      "source": [
        "*RMSProp*"
      ]
    },
    {
      "cell_type": "code",
      "execution_count": null,
      "metadata": {
        "id": "bZWLI5O0tUG8"
      },
      "outputs": [],
      "source": [
        "optimizer = keras.optimizers.RMSprop(learning_rate=1e-3, rho=0.9)"
      ]
    },
    {
      "cell_type": "markdown",
      "metadata": {
        "id": "WilU8s8Et7eJ"
      },
      "source": [
        "*Adam*"
      ]
    },
    {
      "cell_type": "code",
      "execution_count": null,
      "metadata": {
        "id": "hTtaLvQIt-x-"
      },
      "outputs": [],
      "source": [
        "optimizer = keras.optimizers.Adam(learning_rate=1e-3, beta_1=0.9, beta_2=0.999)"
      ]
    },
    {
      "cell_type": "markdown",
      "metadata": {
        "id": "NhG1mbVkundj"
      },
      "source": [
        "*Adamax*"
      ]
    },
    {
      "cell_type": "code",
      "execution_count": null,
      "metadata": {
        "id": "IRjt5zjHuqHu"
      },
      "outputs": [],
      "source": [
        "optimizer = keras.optimizers.Adamax(learning_rate=1e-3, beta_1=0.9, beta_2=0.999)"
      ]
    },
    {
      "cell_type": "markdown",
      "metadata": {
        "id": "d1yhdCxeu30O"
      },
      "source": [
        "*Nadam*"
      ]
    },
    {
      "cell_type": "code",
      "execution_count": null,
      "metadata": {
        "id": "roO_Jynlu5ie"
      },
      "outputs": [],
      "source": [
        "optimizer = keras.optimizers.Nadam(learning_rate=1e-3, beta_1=0.9, beta_2=0.999)"
      ]
    },
    {
      "cell_type": "markdown",
      "metadata": {
        "id": "fDASy03q5TkR"
      },
      "source": [
        "**Learning Rate Scheduling**"
      ]
    },
    {
      "cell_type": "markdown",
      "metadata": {
        "id": "ImCcQvg95aWy"
      },
      "source": [
        "*Power Scheduling*"
      ]
    },
    {
      "cell_type": "code",
      "execution_count": null,
      "metadata": {
        "colab": {
          "base_uri": "https://localhost:8080/"
        },
        "id": "_ZKQaVDt5ZoF",
        "outputId": "6d27219a-e881-430d-9355-a5b4162dbb05"
      },
      "outputs": [
        {
          "name": "stdout",
          "output_type": "stream",
          "text": [
            "Epoch 1/25\n",
            "1719/1719 [==============================] - 33s 18ms/step - loss: 1.1957 - accuracy: 0.5971 - val_loss: 0.8528 - val_accuracy: 0.7100\n",
            "Epoch 2/25\n",
            "1719/1719 [==============================] - 36s 21ms/step - loss: 0.7849 - accuracy: 0.7296 - val_loss: 0.7170 - val_accuracy: 0.7554\n",
            "Epoch 3/25\n",
            "1719/1719 [==============================] - 29s 17ms/step - loss: 0.6924 - accuracy: 0.7599 - val_loss: 0.6544 - val_accuracy: 0.7728\n",
            "Epoch 4/25\n",
            "1719/1719 [==============================] - 33s 19ms/step - loss: 0.6419 - accuracy: 0.7773 - val_loss: 0.6156 - val_accuracy: 0.7838\n",
            "Epoch 5/25\n",
            "1719/1719 [==============================] - 32s 19ms/step - loss: 0.6085 - accuracy: 0.7884 - val_loss: 0.5884 - val_accuracy: 0.7918\n",
            "Epoch 6/25\n",
            "1719/1719 [==============================] - 31s 18ms/step - loss: 0.5840 - accuracy: 0.7972 - val_loss: 0.5679 - val_accuracy: 0.8004\n",
            "Epoch 7/25\n",
            "1719/1719 [==============================] - 31s 18ms/step - loss: 0.5652 - accuracy: 0.8038 - val_loss: 0.5518 - val_accuracy: 0.8062\n",
            "Epoch 8/25\n",
            "1719/1719 [==============================] - 33s 19ms/step - loss: 0.5500 - accuracy: 0.8093 - val_loss: 0.5388 - val_accuracy: 0.8108\n",
            "Epoch 9/25\n",
            "1719/1719 [==============================] - 31s 18ms/step - loss: 0.5373 - accuracy: 0.8135 - val_loss: 0.5278 - val_accuracy: 0.8152\n",
            "Epoch 10/25\n",
            "1719/1719 [==============================] - 33s 19ms/step - loss: 0.5266 - accuracy: 0.8170 - val_loss: 0.5185 - val_accuracy: 0.8162\n",
            "Epoch 11/25\n",
            "1719/1719 [==============================] - 33s 19ms/step - loss: 0.5173 - accuracy: 0.8205 - val_loss: 0.5104 - val_accuracy: 0.8212\n",
            "Epoch 12/25\n",
            "1719/1719 [==============================] - 33s 19ms/step - loss: 0.5091 - accuracy: 0.8234 - val_loss: 0.5034 - val_accuracy: 0.8258\n",
            "Epoch 13/25\n",
            "1719/1719 [==============================] - 26s 15ms/step - loss: 0.5019 - accuracy: 0.8260 - val_loss: 0.4968 - val_accuracy: 0.8266\n",
            "Epoch 14/25\n",
            "1719/1719 [==============================] - 13s 8ms/step - loss: 0.4953 - accuracy: 0.8283 - val_loss: 0.4915 - val_accuracy: 0.8296\n",
            "Epoch 15/25\n",
            "1719/1719 [==============================] - 10s 6ms/step - loss: 0.4895 - accuracy: 0.8305 - val_loss: 0.4863 - val_accuracy: 0.8316\n",
            "Epoch 16/25\n",
            "1719/1719 [==============================] - 12s 7ms/step - loss: 0.4841 - accuracy: 0.8325 - val_loss: 0.4817 - val_accuracy: 0.8330\n",
            "Epoch 17/25\n",
            "1719/1719 [==============================] - 8s 5ms/step - loss: 0.4792 - accuracy: 0.8342 - val_loss: 0.4776 - val_accuracy: 0.8346\n",
            "Epoch 18/25\n",
            "1719/1719 [==============================] - 11s 6ms/step - loss: 0.4746 - accuracy: 0.8351 - val_loss: 0.4735 - val_accuracy: 0.8362\n",
            "Epoch 19/25\n",
            "1719/1719 [==============================] - 12s 7ms/step - loss: 0.4703 - accuracy: 0.8365 - val_loss: 0.4703 - val_accuracy: 0.8378\n",
            "Epoch 20/25\n",
            "1719/1719 [==============================] - 9s 5ms/step - loss: 0.4663 - accuracy: 0.8384 - val_loss: 0.4671 - val_accuracy: 0.8388\n",
            "Epoch 21/25\n",
            "1719/1719 [==============================] - 8s 4ms/step - loss: 0.4627 - accuracy: 0.8393 - val_loss: 0.4636 - val_accuracy: 0.8408\n",
            "Epoch 22/25\n",
            "1719/1719 [==============================] - 11s 6ms/step - loss: 0.4592 - accuracy: 0.8403 - val_loss: 0.4606 - val_accuracy: 0.8416\n",
            "Epoch 23/25\n",
            "1719/1719 [==============================] - 8s 5ms/step - loss: 0.4559 - accuracy: 0.8415 - val_loss: 0.4583 - val_accuracy: 0.8414\n",
            "Epoch 24/25\n",
            "1719/1719 [==============================] - 8s 5ms/step - loss: 0.4528 - accuracy: 0.8429 - val_loss: 0.4557 - val_accuracy: 0.8438\n",
            "Epoch 25/25\n",
            "1719/1719 [==============================] - 12s 7ms/step - loss: 0.4499 - accuracy: 0.8438 - val_loss: 0.4533 - val_accuracy: 0.8428\n"
          ]
        }
      ],
      "source": [
        "optimizer = keras.optimizers.SGD(learning_rate=1e-4)\n",
        "\n",
        "model = keras.models.Sequential([\n",
        "    keras.layers.Flatten(input_shape=[28, 28]),\n",
        "    keras.layers.Dense(300, activation=\"selu\", kernel_initializer=\"lecun_normal\"),\n",
        "    keras.layers.Dense(300, activation=\"selu\", kernel_initializer=\"lecun_normal\"),\n",
        "    keras.layers.Dense(10, activation=\"softmax\"),\n",
        "])\n",
        "\n",
        "model.compile(loss=\"sparse_categorical_crossentropy\", optimizer=optimizer, metrics=[\"accuracy\"])\n",
        "\n",
        "n_epochs = 25\n",
        "history = model.fit(X_train_scaled, y_train, epochs=n_epochs,\n",
        "                    validation_data=(X_valid_scaled, y_valid))"
      ]
    },
    {
      "cell_type": "markdown",
      "metadata": {
        "id": "5SJRZkMa0aYY"
      },
      "source": [
        "*Exponential Scheduling*"
      ]
    },
    {
      "cell_type": "code",
      "execution_count": null,
      "metadata": {
        "id": "R0V0Fb4S6a0u"
      },
      "outputs": [],
      "source": [
        "def exponential_decay(lr0, s):\n",
        "  def exponential_decay_fn(epoch):\n",
        "    return lr0 * 0.1**(epoch / s)\n",
        "  return exponential_decay_fn\n",
        "\n",
        "exponential_decay_fn = exponential_decay(lr0=0.01, s=20)"
      ]
    },
    {
      "cell_type": "code",
      "execution_count": null,
      "metadata": {
        "colab": {
          "base_uri": "https://localhost:8080/"
        },
        "id": "_6QvziCK1LTI",
        "outputId": "4d642467-ebce-4877-d020-8f5261ba64fe"
      },
      "outputs": [
        {
          "name": "stdout",
          "output_type": "stream",
          "text": [
            "Epoch 1/25\n",
            "1719/1719 [==============================] - 12s 7ms/step - loss: 0.5245 - accuracy: 0.8260 - val_loss: 0.4476 - val_accuracy: 0.8454\n",
            "Epoch 2/25\n",
            "1719/1719 [==============================] - 17s 10ms/step - loss: 0.3697 - accuracy: 0.8658 - val_loss: 0.3440 - val_accuracy: 0.8792\n",
            "Epoch 3/25\n",
            "1719/1719 [==============================] - 13s 8ms/step - loss: 0.3291 - accuracy: 0.8806 - val_loss: 0.3585 - val_accuracy: 0.8742\n",
            "Epoch 4/25\n",
            "1719/1719 [==============================] - 12s 7ms/step - loss: 0.3044 - accuracy: 0.8870 - val_loss: 0.3673 - val_accuracy: 0.8782\n",
            "Epoch 5/25\n",
            "1719/1719 [==============================] - 11s 7ms/step - loss: 0.2797 - accuracy: 0.8980 - val_loss: 0.4119 - val_accuracy: 0.8628\n",
            "Epoch 6/25\n",
            "1719/1719 [==============================] - 10s 6ms/step - loss: 0.2583 - accuracy: 0.9038 - val_loss: 0.3693 - val_accuracy: 0.8836\n",
            "Epoch 7/25\n",
            "1719/1719 [==============================] - 11s 7ms/step - loss: 0.2450 - accuracy: 0.9099 - val_loss: 0.3754 - val_accuracy: 0.8818\n",
            "Epoch 8/25\n",
            "1719/1719 [==============================] - 10s 6ms/step - loss: 0.2228 - accuracy: 0.9181 - val_loss: 0.3788 - val_accuracy: 0.8866\n",
            "Epoch 9/25\n",
            "1719/1719 [==============================] - 11s 6ms/step - loss: 0.2082 - accuracy: 0.9225 - val_loss: 0.4364 - val_accuracy: 0.8844\n",
            "Epoch 10/25\n",
            "1719/1719 [==============================] - 10s 6ms/step - loss: 0.1990 - accuracy: 0.9268 - val_loss: 0.4275 - val_accuracy: 0.8848\n",
            "Epoch 11/25\n",
            "1719/1719 [==============================] - 10s 6ms/step - loss: 0.1866 - accuracy: 0.9324 - val_loss: 0.4678 - val_accuracy: 0.8814\n",
            "Epoch 12/25\n",
            "1719/1719 [==============================] - 10s 6ms/step - loss: 0.1753 - accuracy: 0.9359 - val_loss: 0.4748 - val_accuracy: 0.8878\n",
            "Epoch 13/25\n",
            "1719/1719 [==============================] - 11s 6ms/step - loss: 0.1661 - accuracy: 0.9397 - val_loss: 0.5193 - val_accuracy: 0.8854\n",
            "Epoch 14/25\n",
            "1719/1719 [==============================] - 11s 6ms/step - loss: 0.1582 - accuracy: 0.9441 - val_loss: 0.5213 - val_accuracy: 0.8862\n",
            "Epoch 15/25\n",
            "1719/1719 [==============================] - 10s 6ms/step - loss: 0.1494 - accuracy: 0.9456 - val_loss: 0.5509 - val_accuracy: 0.8848\n",
            "Epoch 16/25\n",
            "1719/1719 [==============================] - 10s 6ms/step - loss: 0.1395 - accuracy: 0.9508 - val_loss: 0.6503 - val_accuracy: 0.8768\n",
            "Epoch 17/25\n",
            "1719/1719 [==============================] - 10s 6ms/step - loss: 0.1380 - accuracy: 0.9510 - val_loss: 0.5469 - val_accuracy: 0.8804\n",
            "Epoch 18/25\n",
            "1719/1719 [==============================] - 10s 6ms/step - loss: 0.1357 - accuracy: 0.9532 - val_loss: 0.6378 - val_accuracy: 0.8860\n",
            "Epoch 19/25\n",
            "1719/1719 [==============================] - 10s 6ms/step - loss: 0.1286 - accuracy: 0.9555 - val_loss: 0.5559 - val_accuracy: 0.8920\n",
            "Epoch 20/25\n",
            "1719/1719 [==============================] - 11s 6ms/step - loss: 0.1229 - accuracy: 0.9576 - val_loss: 0.6330 - val_accuracy: 0.8818\n",
            "Epoch 21/25\n",
            "1719/1719 [==============================] - 10s 6ms/step - loss: 0.1212 - accuracy: 0.9583 - val_loss: 0.7016 - val_accuracy: 0.8830\n",
            "Epoch 22/25\n",
            "1719/1719 [==============================] - 10s 6ms/step - loss: 0.1133 - accuracy: 0.9612 - val_loss: 0.7152 - val_accuracy: 0.8820\n",
            "Epoch 23/25\n",
            "1719/1719 [==============================] - 10s 6ms/step - loss: 0.1169 - accuracy: 0.9614 - val_loss: 0.7617 - val_accuracy: 0.8884\n",
            "Epoch 24/25\n",
            "1719/1719 [==============================] - 10s 6ms/step - loss: 0.1049 - accuracy: 0.9640 - val_loss: 0.8010 - val_accuracy: 0.8842\n",
            "Epoch 25/25\n",
            "1719/1719 [==============================] - 11s 6ms/step - loss: 0.1124 - accuracy: 0.9643 - val_loss: 0.7665 - val_accuracy: 0.8848\n"
          ]
        }
      ],
      "source": [
        "model = keras.models.Sequential([\n",
        "    keras.layers.Flatten(input_shape=[28, 28]),\n",
        "    keras.layers.Dense(300, activation=\"selu\", kernel_initializer=\"lecun_normal\"),\n",
        "    keras.layers.Dense(300, activation=\"selu\", kernel_initializer=\"lecun_normal\"),\n",
        "    keras.layers.Dense(10, activation=\"softmax\")\n",
        "])\n",
        "model.compile(loss=\"sparse_categorical_crossentropy\", optimizer=\"adam\", metrics=[\"accuracy\"])\n",
        "n_epochs=25\n",
        "\n",
        "lr_scheduler=keras.callbacks.LearningRateScheduler(exponential_decay_fn)\n",
        "history = model.fit(X_train_scaled, y_train, epochs=n_epochs,\n",
        "                    validation_data=(X_valid_scaled, y_valid),\n",
        "                    callbacks=[lr_scheduler])"
      ]
    },
    {
      "cell_type": "markdown",
      "metadata": {
        "id": "Tv2Np_2VBUlL"
      },
      "source": [
        "*Piecewise Constant Scheduling*"
      ]
    },
    {
      "cell_type": "code",
      "execution_count": null,
      "metadata": {
        "id": "pOztjvQe2gMo"
      },
      "outputs": [],
      "source": [
        "def piecewise_constant(boundaries, values):\n",
        "    boundaries = np.array([0] + boundaries)\n",
        "    values = np.array(values)\n",
        "    def piecewise_constant_fn(epoch):\n",
        "        return values[np.argmax(boundaries > epoch) - 1]\n",
        "    return piecewise_constant_fn\n",
        "\n",
        "piecewise_constant_fn = piecewise_constant([5, 15], [0.01, 0.005, 0.001])"
      ]
    },
    {
      "cell_type": "code",
      "execution_count": null,
      "metadata": {
        "colab": {
          "base_uri": "https://localhost:8080/"
        },
        "id": "6QZ6U_sFBfJv",
        "outputId": "f6dbf0a4-e694-44c8-ec90-60f4cc114b5f"
      },
      "outputs": [
        {
          "name": "stdout",
          "output_type": "stream",
          "text": [
            "Epoch 1/25\n",
            "1719/1719 [==============================] - 17s 9ms/step - loss: 0.8637 - accuracy: 0.7560 - val_loss: 0.7478 - val_accuracy: 0.7828 - lr: 0.0100\n",
            "Epoch 2/25\n",
            "1719/1719 [==============================] - 15s 9ms/step - loss: 0.8498 - accuracy: 0.7611 - val_loss: 1.0946 - val_accuracy: 0.6738 - lr: 0.0100\n",
            "Epoch 3/25\n",
            "1719/1719 [==============================] - 15s 9ms/step - loss: 0.9474 - accuracy: 0.7327 - val_loss: 0.8379 - val_accuracy: 0.7396 - lr: 0.0100\n",
            "Epoch 4/25\n",
            "1719/1719 [==============================] - 20s 12ms/step - loss: 0.9183 - accuracy: 0.7361 - val_loss: 0.8986 - val_accuracy: 0.7600 - lr: 0.0100\n",
            "Epoch 5/25\n",
            "1719/1719 [==============================] - 17s 10ms/step - loss: 0.9207 - accuracy: 0.7322 - val_loss: 1.1545 - val_accuracy: 0.6422 - lr: 0.0100\n",
            "Epoch 6/25\n",
            "1719/1719 [==============================] - 20s 12ms/step - loss: 0.6731 - accuracy: 0.7983 - val_loss: 0.6333 - val_accuracy: 0.8178 - lr: 0.0050\n",
            "Epoch 7/25\n",
            "1719/1719 [==============================] - 17s 10ms/step - loss: 0.5641 - accuracy: 0.8266 - val_loss: 0.6389 - val_accuracy: 0.8166 - lr: 0.0050\n",
            "Epoch 8/25\n",
            "1719/1719 [==============================] - 16s 10ms/step - loss: 0.5419 - accuracy: 0.8341 - val_loss: 0.5919 - val_accuracy: 0.8352 - lr: 0.0050\n",
            "Epoch 9/25\n",
            "1719/1719 [==============================] - 15s 9ms/step - loss: 0.5365 - accuracy: 0.8405 - val_loss: 0.6457 - val_accuracy: 0.8338 - lr: 0.0050\n",
            "Epoch 10/25\n",
            "1719/1719 [==============================] - 18s 11ms/step - loss: 0.5198 - accuracy: 0.8453 - val_loss: 0.8026 - val_accuracy: 0.7358 - lr: 0.0050\n",
            "Epoch 11/25\n",
            "1719/1719 [==============================] - 17s 10ms/step - loss: 0.5066 - accuracy: 0.8489 - val_loss: 0.5989 - val_accuracy: 0.8334 - lr: 0.0050\n",
            "Epoch 12/25\n",
            "1719/1719 [==============================] - 15s 9ms/step - loss: 0.5063 - accuracy: 0.8501 - val_loss: 0.6315 - val_accuracy: 0.8056 - lr: 0.0050\n",
            "Epoch 13/25\n",
            "1719/1719 [==============================] - 15s 9ms/step - loss: 0.4874 - accuracy: 0.8547 - val_loss: 0.8185 - val_accuracy: 0.8268 - lr: 0.0050\n",
            "Epoch 14/25\n",
            "1719/1719 [==============================] - 14s 8ms/step - loss: 0.4883 - accuracy: 0.8586 - val_loss: 0.6679 - val_accuracy: 0.8294 - lr: 0.0050\n",
            "Epoch 15/25\n",
            "1719/1719 [==============================] - 15s 9ms/step - loss: 0.4599 - accuracy: 0.8597 - val_loss: 0.5697 - val_accuracy: 0.8432 - lr: 0.0050\n",
            "Epoch 16/25\n",
            "1719/1719 [==============================] - 23s 13ms/step - loss: 0.3397 - accuracy: 0.8887 - val_loss: 0.5030 - val_accuracy: 0.8692 - lr: 0.0010\n",
            "Epoch 17/25\n",
            "1719/1719 [==============================] - 14s 8ms/step - loss: 0.3161 - accuracy: 0.8967 - val_loss: 0.4813 - val_accuracy: 0.8712 - lr: 0.0010\n",
            "Epoch 18/25\n",
            "1719/1719 [==============================] - 14s 8ms/step - loss: 0.3044 - accuracy: 0.9001 - val_loss: 0.5047 - val_accuracy: 0.8740 - lr: 0.0010\n",
            "Epoch 19/25\n",
            "1719/1719 [==============================] - 16s 9ms/step - loss: 0.2953 - accuracy: 0.9037 - val_loss: 0.5263 - val_accuracy: 0.8742 - lr: 0.0010\n",
            "Epoch 20/25\n",
            "1719/1719 [==============================] - 15s 9ms/step - loss: 0.2854 - accuracy: 0.9067 - val_loss: 0.4982 - val_accuracy: 0.8708 - lr: 0.0010\n",
            "Epoch 21/25\n",
            "1719/1719 [==============================] - 15s 9ms/step - loss: 0.2827 - accuracy: 0.9079 - val_loss: 0.5229 - val_accuracy: 0.8716 - lr: 0.0010\n",
            "Epoch 22/25\n",
            "1719/1719 [==============================] - 16s 9ms/step - loss: 0.2711 - accuracy: 0.9110 - val_loss: 0.5496 - val_accuracy: 0.8624 - lr: 0.0010\n",
            "Epoch 23/25\n",
            "1719/1719 [==============================] - 17s 10ms/step - loss: 0.2662 - accuracy: 0.9139 - val_loss: 0.5443 - val_accuracy: 0.8746 - lr: 0.0010\n",
            "Epoch 24/25\n",
            "1719/1719 [==============================] - 16s 9ms/step - loss: 0.2645 - accuracy: 0.9135 - val_loss: 0.5585 - val_accuracy: 0.8714 - lr: 0.0010\n",
            "Epoch 25/25\n",
            "1719/1719 [==============================] - 16s 9ms/step - loss: 0.2556 - accuracy: 0.9172 - val_loss: 0.5126 - val_accuracy: 0.8718 - lr: 0.0010\n"
          ]
        }
      ],
      "source": [
        "lr_scheduler = keras.callbacks.LearningRateScheduler(piecewise_constant_fn)\n",
        "\n",
        "model = keras.models.Sequential([\n",
        "    keras.layers.Flatten(input_shape=[28, 28]),\n",
        "    keras.layers.Dense(300, activation=\"selu\", kernel_initializer=\"lecun_normal\"),\n",
        "    keras.layers.Dense(100, activation=\"selu\", kernel_initializer=\"lecun_normal\"),\n",
        "    keras.layers.Dense(10, activation=\"softmax\")\n",
        "])\n",
        "model.compile(loss=\"sparse_categorical_crossentropy\", optimizer=\"nadam\", metrics=[\"accuracy\"])\n",
        "n_epochs = 25\n",
        "history = model.fit(X_train_scaled, y_train, epochs=n_epochs,\n",
        "                    validation_data=(X_valid_scaled, y_valid),\n",
        "                    callbacks=[lr_scheduler])"
      ]
    },
    {
      "cell_type": "markdown",
      "metadata": {
        "id": "2_ArAFx2CM1e"
      },
      "source": [
        "*Performance Scheduling*"
      ]
    },
    {
      "cell_type": "code",
      "execution_count": null,
      "metadata": {
        "colab": {
          "background_save": true,
          "base_uri": "https://localhost:8080/",
          "height": 235
        },
        "id": "OHst-WqCBlK4",
        "outputId": "0f8fff3e-2788-487c-b1c4-20531c5164c9"
      },
      "outputs": [
        {
          "name": "stdout",
          "output_type": "stream",
          "text": [
            "Epoch 1/25\n",
            "1719/1719 [==============================] - 17s 9ms/step - loss: 0.4729 - accuracy: 0.8356 - val_loss: 0.3962 - val_accuracy: 0.8644 - lr: 0.0010\n",
            "Epoch 2/25\n",
            "1719/1719 [==============================] - 16s 9ms/step - loss: 0.3430 - accuracy: 0.8740 - val_loss: 0.3285 - val_accuracy: 0.8856 - lr: 0.0010\n",
            "Epoch 3/25\n",
            "1719/1719 [==============================] - 14s 8ms/step - loss: 0.3070 - accuracy: 0.8880 - val_loss: 0.3350 - val_accuracy: 0.8794 - lr: 0.0010\n",
            "Epoch 4/25\n",
            "1719/1719 [==============================] - 15s 9ms/step - loss: 0.2785 - accuracy: 0.8980 - val_loss: 0.3272 - val_accuracy: 0.8854 - lr: 0.0010\n",
            "Epoch 5/25\n",
            "1719/1719 [==============================] - 14s 8ms/step - loss: 0.2584 - accuracy: 0.9027 - val_loss: 0.3533 - val_accuracy: 0.8834 - lr: 0.0010\n",
            "Epoch 6/25\n",
            "1719/1719 [==============================] - 16s 9ms/step - loss: 0.2412 - accuracy: 0.9099 - val_loss: 0.3601 - val_accuracy: 0.8836 - lr: 0.0010\n",
            "Epoch 7/25\n",
            "1719/1719 [==============================] - 15s 8ms/step - loss: 0.2254 - accuracy: 0.9149 - val_loss: 0.3328 - val_accuracy: 0.8900 - lr: 0.0010\n",
            "Epoch 8/25\n",
            "1719/1719 [==============================] - 15s 9ms/step - loss: 0.2087 - accuracy: 0.9211 - val_loss: 0.3552 - val_accuracy: 0.8860 - lr: 0.0010\n",
            "Epoch 9/25\n",
            "1719/1719 [==============================] - 15s 9ms/step - loss: 0.1975 - accuracy: 0.9261 - val_loss: 0.3795 - val_accuracy: 0.8878 - lr: 0.0010\n",
            "Epoch 10/25\n",
            "1719/1719 [==============================] - 14s 8ms/step - loss: 0.1387 - accuracy: 0.9489 - val_loss: 0.3538 - val_accuracy: 0.8938 - lr: 5.0000e-04\n",
            "Epoch 11/25\n",
            "1719/1719 [==============================] - 15s 9ms/step - loss: 0.1199 - accuracy: 0.9554 - val_loss: 0.3777 - val_accuracy: 0.8932 - lr: 5.0000e-04\n",
            "Epoch 12/25\n",
            "1719/1719 [==============================] - 15s 9ms/step - loss: 0.1097 - accuracy: 0.9591 - val_loss: 0.3800 - val_accuracy: 0.8966 - lr: 5.0000e-04\n",
            "Epoch 13/25\n",
            "1719/1719 [==============================] - 15s 9ms/step - loss: 0.1005 - accuracy: 0.9623 - val_loss: 0.4149 - val_accuracy: 0.9022 - lr: 5.0000e-04\n",
            "Epoch 14/25\n",
            "1719/1719 [==============================] - 15s 9ms/step - loss: 0.0893 - accuracy: 0.9675 - val_loss: 0.4720 - val_accuracy: 0.8906 - lr: 5.0000e-04\n",
            "Epoch 15/25\n",
            "1719/1719 [==============================] - 15s 9ms/step - loss: 0.0611 - accuracy: 0.9786 - val_loss: 0.4428 - val_accuracy: 0.9002 - lr: 2.5000e-04\n",
            "Epoch 16/25\n",
            "1719/1719 [==============================] - 15s 9ms/step - loss: 0.0519 - accuracy: 0.9825 - val_loss: 0.4638 - val_accuracy: 0.9016 - lr: 2.5000e-04\n",
            "Epoch 17/25\n",
            "1719/1719 [==============================] - 14s 8ms/step - loss: 0.0465 - accuracy: 0.9839 - val_loss: 0.4738 - val_accuracy: 0.8998 - lr: 2.5000e-04\n",
            "Epoch 18/25\n",
            "1719/1719 [==============================] - 15s 9ms/step - loss: 0.0411 - accuracy: 0.9859 - val_loss: 0.4992 - val_accuracy: 0.8990 - lr: 2.5000e-04\n",
            "Epoch 19/25\n",
            "1719/1719 [==============================] - 15s 9ms/step - loss: 0.0367 - accuracy: 0.9876 - val_loss: 0.5262 - val_accuracy: 0.8996 - lr: 2.5000e-04\n",
            "Epoch 20/25\n",
            "1719/1719 [==============================] - 14s 8ms/step - loss: 0.0242 - accuracy: 0.9931 - val_loss: 0.5324 - val_accuracy: 0.8990 - lr: 1.2500e-04\n",
            "Epoch 21/25\n",
            "1719/1719 [==============================] - 14s 8ms/step - loss: 0.0207 - accuracy: 0.9943 - val_loss: 0.5580 - val_accuracy: 0.8992 - lr: 1.2500e-04\n",
            "Epoch 22/25\n",
            "1719/1719 [==============================] - 15s 9ms/step - loss: 0.0188 - accuracy: 0.9952 - val_loss: 0.5620 - val_accuracy: 0.8982 - lr: 1.2500e-04\n",
            "Epoch 23/25\n",
            "1719/1719 [==============================] - 14s 8ms/step - loss: 0.0163 - accuracy: 0.9963 - val_loss: 0.5897 - val_accuracy: 0.9002 - lr: 1.2500e-04\n",
            "Epoch 24/25\n",
            "1719/1719 [==============================] - 14s 8ms/step - loss: 0.0152 - accuracy: 0.9962 - val_loss: 0.6049 - val_accuracy: 0.9002 - lr: 1.2500e-04\n",
            "Epoch 25/25\n",
            "1719/1719 [==============================] - 15s 9ms/step - loss: 0.0101 - accuracy: 0.9983 - val_loss: 0.6162 - val_accuracy: 0.9002 - lr: 6.2500e-05\n"
          ]
        }
      ],
      "source": [
        "tf.random.set_seed(1)\n",
        "np.random.seed(1)\n",
        "\n",
        "lr_scheduler = keras.optimizers.ReduceLROnPlateau(factor=0.5, patience=5)\n",
        "\n",
        "model = keras.models.Sequential([\n",
        "    keras.layers.Flatten(input_shape=[28, 28]),\n",
        "    keras.layers.Dense(300, activation=\"selu\", kernel_initializer=\"lecun_normal\"),\n",
        "    keras.layers.Dense(100, activation=\"selu\", kernel_initializer=\"lecun_normal\"),\n",
        "    keras.layers.Dense(10, activation=\"softmax\")\n",
        "])\n",
        "model.compile(loss=\"sparse_categorical_crossentropy\", optimizer=\"nadam\", metrics=[\"accuracy\"])\n",
        "n_epochs = 25\n",
        "history = model.fit(X_train_scaled, y_train, epochs=n_epochs,\n",
        "                    validation_data=(X_valid_scaled, y_valid),\n",
        "                    callbacks=[lr_scheduler])"
      ]
    },
    {
      "cell_type": "markdown",
      "source": [
        "**Avoiding Overfitting Through Regularization**"
      ],
      "metadata": {
        "id": "KOCuYVbAi6hE"
      }
    },
    {
      "cell_type": "markdown",
      "source": [
        "*l1 and l2 regularization*"
      ],
      "metadata": {
        "id": "P6Hfdc01i9yw"
      }
    },
    {
      "cell_type": "code",
      "source": [
        "layer = keras.layer.Dense(100, activation=\"elu\",\n",
        "                          kernel_initializaer=\"he_normal\",\n",
        "                          kernel_regularizer=keras.regularizers.l2(0.01))\n",
        "\n",
        "# l1(0.01)\n",
        "# l1_l2(0.01, 0.02)"
      ],
      "metadata": {
        "id": "K0TP-M-bi558"
      },
      "execution_count": null,
      "outputs": []
    },
    {
      "cell_type": "code",
      "execution_count": null,
      "metadata": {
        "id": "wXvXocTaDqol",
        "colab": {
          "base_uri": "https://localhost:8080/"
        },
        "outputId": "49843af4-4fd6-4e4c-9ffb-dad272eac82e"
      },
      "outputs": [
        {
          "output_type": "stream",
          "name": "stdout",
          "text": [
            "Epoch 1/2\n",
            "1719/1719 [==============================] - 7s 4ms/step - loss: 1.6359 - accuracy: 0.8118 - val_loss: 0.7524 - val_accuracy: 0.8160\n",
            "Epoch 2/2\n",
            "1719/1719 [==============================] - 7s 4ms/step - loss: 0.7192 - accuracy: 0.8259 - val_loss: 0.6743 - val_accuracy: 0.8502\n"
          ]
        }
      ],
      "source": [
        "from functools import partial\n",
        "\n",
        "RegularizedDense = partial(keras.layers.Dense,\n",
        "                           activation=\"elu\",\n",
        "                           kernel_initializer=\"he_normal\",\n",
        "                           kernel_regularizer=keras.regularizers.l2(0.01))\n",
        "\n",
        "model = keras.Sequential([\n",
        "    keras.layers.Flatten(input_shape=[28, 28]),\n",
        "    RegularizedDense(300),\n",
        "    RegularizedDense(100),\n",
        "    RegularizedDense(10, activation=\"softmax\")\n",
        "])\n",
        "\n",
        "model.compile(loss=\"sparse_categorical_crossentropy\", optimizer=\"nadam\",\n",
        "              metrics=[\"accuracy\"])\n",
        "\n",
        "history=model.fit(X_train_scaled, y_train, epochs=2,\n",
        "                  validation_data=[X_valid_scaled, y_valid])"
      ]
    },
    {
      "cell_type": "markdown",
      "source": [
        "*Dropout*"
      ],
      "metadata": {
        "id": "QfW5NF-iR40f"
      }
    },
    {
      "cell_type": "code",
      "source": [
        "model = keras.models.Sequential([\n",
        "    keras.layers.Flatten(input_shape=[28, 28]),\n",
        "    keras.layers.Dropout(0.2),\n",
        "    keras.layers.Dense(300, activation=\"selu\", kernel_initializer=\"lecun_normal\"),\n",
        "    keras.layers.Dropout(0.2),\n",
        "    keras.layers.Dense(100, activation=\"selu\", kernel_initializer=\"lecun_normal\"),\n",
        "    keras.layers.Dropout(0.2),\n",
        "    keras.layers.Dense(10, activation=\"softmax\")\n",
        "])\n",
        "model.compile(loss=\"sparse_categorical_crossentropy\", optimizer=\"nadam\", metrics=[\"accuracy\"])\n",
        "history = model.fit(X_train_scaled, y_train, epochs=10,\n",
        "                    validation_data=(X_valid_scaled, y_valid))"
      ],
      "metadata": {
        "colab": {
          "base_uri": "https://localhost:8080/"
        },
        "id": "GpD6BDY6Tgf5",
        "outputId": "1f2e59f7-3e3d-47bc-9773-a1908ddf9d49"
      },
      "execution_count": 6,
      "outputs": [
        {
          "output_type": "stream",
          "name": "stdout",
          "text": [
            "Epoch 1/10\n",
            "1719/1719 [==============================] - 17s 9ms/step - loss: 0.5967 - accuracy: 0.7980 - val_loss: 0.3889 - val_accuracy: 0.8620\n",
            "Epoch 2/10\n",
            "1719/1719 [==============================] - 15s 8ms/step - loss: 0.4282 - accuracy: 0.8439 - val_loss: 0.3482 - val_accuracy: 0.8800\n",
            "Epoch 3/10\n",
            "1719/1719 [==============================] - 14s 8ms/step - loss: 0.4009 - accuracy: 0.8539 - val_loss: 0.3401 - val_accuracy: 0.8728\n",
            "Epoch 4/10\n",
            "1719/1719 [==============================] - 14s 8ms/step - loss: 0.3821 - accuracy: 0.8597 - val_loss: 0.3419 - val_accuracy: 0.8796\n",
            "Epoch 5/10\n",
            "1719/1719 [==============================] - 14s 8ms/step - loss: 0.3711 - accuracy: 0.8621 - val_loss: 0.3303 - val_accuracy: 0.8736\n",
            "Epoch 6/10\n",
            "1719/1719 [==============================] - 14s 8ms/step - loss: 0.3611 - accuracy: 0.8664 - val_loss: 0.3101 - val_accuracy: 0.8878\n",
            "Epoch 7/10\n",
            "1719/1719 [==============================] - 14s 8ms/step - loss: 0.3513 - accuracy: 0.8703 - val_loss: 0.3263 - val_accuracy: 0.8828\n",
            "Epoch 8/10\n",
            "1719/1719 [==============================] - 14s 8ms/step - loss: 0.3412 - accuracy: 0.8728 - val_loss: 0.3218 - val_accuracy: 0.8822\n",
            "Epoch 9/10\n",
            "1719/1719 [==============================] - 14s 8ms/step - loss: 0.3349 - accuracy: 0.8758 - val_loss: 0.3086 - val_accuracy: 0.8820\n",
            "Epoch 10/10\n",
            "1719/1719 [==============================] - 14s 8ms/step - loss: 0.3301 - accuracy: 0.8783 - val_loss: 0.3161 - val_accuracy: 0.8834\n"
          ]
        }
      ]
    },
    {
      "cell_type": "markdown",
      "source": [
        "*1.Monte-Carlo (MC) Dropout*\n",
        "\n"
      ],
      "metadata": {
        "id": "vf131tWoR0k8"
      }
    },
    {
      "cell_type": "code",
      "source": [
        "class MCDropout(keras.layers.Dropout):\n",
        "    def call(self, inputs):\n",
        "        return super().call(inputs, training=True)"
      ],
      "metadata": {
        "id": "zUOzJba0jnoK"
      },
      "execution_count": 7,
      "outputs": []
    },
    {
      "cell_type": "code",
      "source": [
        "mc_model = keras.models.Sequential([\n",
        "    MCDropout(layer.rate) if isinstance(layer, keras.layers.Dropout) else layer \n",
        "    for layer in model.layers\n",
        "])"
      ],
      "metadata": {
        "id": "2MIgmPDmTUzO"
      },
      "execution_count": 8,
      "outputs": []
    },
    {
      "cell_type": "code",
      "source": [
        "optimizer = keras.optimizers.SGD(learning_rate=0.01, momentum=0.9, nesterov=True)\n",
        "mc_model.compile(loss=\"sparse_categorical_crossentropy\", optimizer=optimizer, metrics=[\"accuracy\"])"
      ],
      "metadata": {
        "id": "6Q0rYiUqT6s9"
      },
      "execution_count": 9,
      "outputs": []
    },
    {
      "cell_type": "code",
      "source": [
        "mc_model.set_weights(model.get_weights())"
      ],
      "metadata": {
        "id": "ozNIugTJV51l"
      },
      "execution_count": 10,
      "outputs": []
    },
    {
      "cell_type": "code",
      "source": [
        "np.round(np.mean([mc_model.predict(X_test_scaled[:1]) for sample in range(100)], axis=0), 2)"
      ],
      "metadata": {
        "id": "NF0FomE6V_-8",
        "colab": {
          "base_uri": "https://localhost:8080/"
        },
        "outputId": "8c3517e6-7a6b-4d73-da10-4a2df6b40fd9"
      },
      "execution_count": 11,
      "outputs": [
        {
          "output_type": "stream",
          "name": "stdout",
          "text": [
            "1/1 [==============================] - 0s 107ms/step\n",
            "1/1 [==============================] - 0s 17ms/step\n",
            "1/1 [==============================] - 0s 18ms/step\n",
            "1/1 [==============================] - 0s 20ms/step\n",
            "1/1 [==============================] - 0s 18ms/step\n",
            "1/1 [==============================] - 0s 19ms/step\n",
            "1/1 [==============================] - 0s 18ms/step\n",
            "1/1 [==============================] - 0s 28ms/step\n",
            "1/1 [==============================] - 0s 19ms/step\n",
            "1/1 [==============================] - 0s 21ms/step\n",
            "1/1 [==============================] - 0s 16ms/step\n",
            "1/1 [==============================] - 0s 17ms/step\n",
            "1/1 [==============================] - 0s 21ms/step\n",
            "1/1 [==============================] - 0s 19ms/step\n",
            "1/1 [==============================] - 0s 18ms/step\n",
            "1/1 [==============================] - 0s 22ms/step\n",
            "1/1 [==============================] - 0s 19ms/step\n",
            "1/1 [==============================] - 0s 23ms/step\n",
            "1/1 [==============================] - 0s 19ms/step\n",
            "1/1 [==============================] - 0s 17ms/step\n",
            "1/1 [==============================] - 0s 19ms/step\n",
            "1/1 [==============================] - 0s 18ms/step\n",
            "1/1 [==============================] - 0s 22ms/step\n",
            "1/1 [==============================] - 0s 19ms/step\n",
            "1/1 [==============================] - 0s 20ms/step\n",
            "1/1 [==============================] - 0s 22ms/step\n",
            "1/1 [==============================] - 0s 21ms/step\n",
            "1/1 [==============================] - 0s 20ms/step\n",
            "1/1 [==============================] - 0s 23ms/step\n",
            "1/1 [==============================] - 0s 17ms/step\n",
            "1/1 [==============================] - 0s 18ms/step\n",
            "1/1 [==============================] - 0s 23ms/step\n",
            "1/1 [==============================] - 0s 17ms/step\n",
            "1/1 [==============================] - 0s 17ms/step\n",
            "1/1 [==============================] - 0s 18ms/step\n",
            "1/1 [==============================] - 0s 25ms/step\n",
            "1/1 [==============================] - 0s 18ms/step\n",
            "1/1 [==============================] - 0s 18ms/step\n",
            "1/1 [==============================] - 0s 18ms/step\n",
            "1/1 [==============================] - 0s 22ms/step\n",
            "1/1 [==============================] - 0s 20ms/step\n",
            "1/1 [==============================] - 0s 19ms/step\n",
            "1/1 [==============================] - 0s 20ms/step\n",
            "1/1 [==============================] - 0s 18ms/step\n",
            "1/1 [==============================] - 0s 17ms/step\n",
            "1/1 [==============================] - 0s 18ms/step\n",
            "1/1 [==============================] - 0s 22ms/step\n",
            "1/1 [==============================] - 0s 17ms/step\n",
            "1/1 [==============================] - 0s 19ms/step\n",
            "1/1 [==============================] - 0s 19ms/step\n",
            "1/1 [==============================] - 0s 19ms/step\n",
            "1/1 [==============================] - 0s 19ms/step\n",
            "1/1 [==============================] - 0s 18ms/step\n",
            "1/1 [==============================] - 0s 18ms/step\n",
            "1/1 [==============================] - 0s 18ms/step\n",
            "1/1 [==============================] - 0s 17ms/step\n",
            "1/1 [==============================] - 0s 20ms/step\n",
            "1/1 [==============================] - 0s 18ms/step\n",
            "1/1 [==============================] - 0s 18ms/step\n",
            "1/1 [==============================] - 0s 18ms/step\n",
            "1/1 [==============================] - 0s 18ms/step\n",
            "1/1 [==============================] - 0s 18ms/step\n",
            "1/1 [==============================] - 0s 19ms/step\n",
            "1/1 [==============================] - 0s 19ms/step\n",
            "1/1 [==============================] - 0s 16ms/step\n",
            "1/1 [==============================] - 0s 17ms/step\n",
            "1/1 [==============================] - 0s 17ms/step\n",
            "1/1 [==============================] - 0s 19ms/step\n",
            "1/1 [==============================] - 0s 18ms/step\n",
            "1/1 [==============================] - 0s 17ms/step\n",
            "1/1 [==============================] - 0s 18ms/step\n",
            "1/1 [==============================] - 0s 18ms/step\n",
            "1/1 [==============================] - 0s 21ms/step\n",
            "1/1 [==============================] - 0s 18ms/step\n",
            "1/1 [==============================] - 0s 17ms/step\n",
            "1/1 [==============================] - 0s 24ms/step\n",
            "1/1 [==============================] - 0s 20ms/step\n",
            "1/1 [==============================] - 0s 21ms/step\n",
            "1/1 [==============================] - 0s 19ms/step\n",
            "1/1 [==============================] - 0s 19ms/step\n",
            "1/1 [==============================] - 0s 19ms/step\n",
            "1/1 [==============================] - 0s 22ms/step\n",
            "1/1 [==============================] - 0s 33ms/step\n",
            "1/1 [==============================] - 0s 18ms/step\n",
            "1/1 [==============================] - 0s 18ms/step\n",
            "1/1 [==============================] - 0s 19ms/step\n",
            "1/1 [==============================] - 0s 19ms/step\n",
            "1/1 [==============================] - 0s 19ms/step\n",
            "1/1 [==============================] - 0s 19ms/step\n",
            "1/1 [==============================] - 0s 18ms/step\n",
            "1/1 [==============================] - 0s 20ms/step\n",
            "1/1 [==============================] - 0s 20ms/step\n",
            "1/1 [==============================] - 0s 19ms/step\n",
            "1/1 [==============================] - 0s 19ms/step\n",
            "1/1 [==============================] - 0s 18ms/step\n",
            "1/1 [==============================] - 0s 18ms/step\n",
            "1/1 [==============================] - 0s 18ms/step\n",
            "1/1 [==============================] - 0s 19ms/step\n",
            "1/1 [==============================] - 0s 19ms/step\n",
            "1/1 [==============================] - 0s 26ms/step\n"
          ]
        },
        {
          "output_type": "execute_result",
          "data": {
            "text/plain": [
              "array([[0.  , 0.  , 0.  , 0.  , 0.  , 0.07, 0.  , 0.28, 0.  , 0.65]],\n",
              "      dtype=float32)"
            ]
          },
          "metadata": {},
          "execution_count": 11
        }
      ]
    }
  ],
  "metadata": {
    "colab": {
      "provenance": [],
      "authorship_tag": "ABX9TyNFPIUwKyPfjLx+eqHAajMI",
      "include_colab_link": true
    },
    "kernelspec": {
      "display_name": "Python 3",
      "name": "python3"
    },
    "language_info": {
      "name": "python"
    }
  },
  "nbformat": 4,
  "nbformat_minor": 0
}