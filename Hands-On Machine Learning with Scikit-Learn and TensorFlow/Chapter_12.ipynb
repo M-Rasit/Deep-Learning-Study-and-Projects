{
  "nbformat": 4,
  "nbformat_minor": 0,
  "metadata": {
    "colab": {
      "provenance": [],
      "authorship_tag": "ABX9TyPkoiDhrgZ8AhTO2Zprdv0b",
      "include_colab_link": true
    },
    "kernelspec": {
      "name": "python3",
      "display_name": "Python 3"
    },
    "language_info": {
      "name": "python"
    }
  },
  "cells": [
    {
      "cell_type": "markdown",
      "metadata": {
        "id": "view-in-github",
        "colab_type": "text"
      },
      "source": [
        "<a href=\"https://colab.research.google.com/github/M-Rasit/Deep-Learning-Study-and-Projects/blob/main/Hands-On%20Machine%20Learning%20with%20Scikit-Learn%20and%20TensorFlow/Chapter_12.ipynb\" target=\"_parent\"><img src=\"https://colab.research.google.com/assets/colab-badge.svg\" alt=\"Open In Colab\"/></a>"
      ]
    },
    {
      "cell_type": "code",
      "execution_count": 23,
      "metadata": {
        "id": "3ObaK4I2Eoip"
      },
      "outputs": [],
      "source": [
        "import tensorflow as tf\n",
        "from tensorflow import keras\n",
        "\n",
        "import sklearn\n",
        "assert sklearn.__version__ >= \"0.20\"\n",
        "from sklearn.datasets import fetch_california_housing\n",
        "from sklearn.model_selection import train_test_split\n",
        "from sklearn.preprocessing import StandardScaler\n",
        "\n",
        "import pandas as pd"
      ]
    },
    {
      "cell_type": "code",
      "source": [
        "data = fetch_california_housing()\n",
        "X_train_full, X_test, y_train_full, y_test = train_test_split(\n",
        "    data[\"data\"], data[\"target\"].reshape(-1, 1), random_state=1)\n",
        "X_train, X_valid, y_train, y_valid = train_test_split(\n",
        "    X_train_full, y_train_full, random_state=1)"
      ],
      "metadata": {
        "id": "ThaYobhaLmjN"
      },
      "execution_count": 21,
      "outputs": []
    },
    {
      "cell_type": "code",
      "source": [
        "X_train"
      ],
      "metadata": {
        "colab": {
          "base_uri": "https://localhost:8080/"
        },
        "id": "hBQWLnWHMC2R",
        "outputId": "8d6dfba5-c485-4c62-801e-8ca5bd7ee937"
      },
      "execution_count": 22,
      "outputs": [
        {
          "output_type": "execute_result",
          "data": {
            "text/plain": [
              "array([[   2.7399    ,   15.        ,    6.21890547, ...,    2.3946932 ,\n",
              "          38.39      , -120.62      ],\n",
              "       [   2.6159    ,   45.        ,    3.64748201, ...,    2.1942446 ,\n",
              "          37.55      , -122.31      ],\n",
              "       [   2.75      ,   27.        ,    5.00308642, ...,    2.72222222,\n",
              "          36.55      , -119.43      ],\n",
              "       ...,\n",
              "       [   2.2019    ,   24.        ,    4.96732026, ...,    2.88235294,\n",
              "          37.07      , -120.84      ],\n",
              "       [   4.2098    ,   35.        ,    5.67315175, ...,    2.81322957,\n",
              "          32.79      , -117.13      ],\n",
              "       [   0.8907    ,   34.        ,    2.28571429, ...,    3.57142857,\n",
              "          34.12      , -118.24      ]])"
            ]
          },
          "metadata": {},
          "execution_count": 22
        }
      ]
    },
    {
      "cell_type": "code",
      "source": [
        "sc = StandardScaler()\n",
        "X_train_scaled = sc.fit_transform(X_train)\n",
        "X_valid_scaled = sc.transform(X_valid)\n",
        "X_test_scaled = sc.transform(X_test)"
      ],
      "metadata": {
        "id": "twlVhN4cMtf5"
      },
      "execution_count": 24,
      "outputs": []
    },
    {
      "cell_type": "markdown",
      "source": [
        "**Custom Loss Function**"
      ],
      "metadata": {
        "id": "58OoDBh9PMja"
      }
    },
    {
      "cell_type": "code",
      "source": [
        "def huber_fn(y_true, y_pred):\n",
        "    error = y_true - y_pred\n",
        "    is_small_error = tf.abs(error) < 1\n",
        "    squared_loss = tf.square(error) / 2\n",
        "    linear_loss  = tf.abs(error) - 0.5\n",
        "    return tf.where(is_small_error, squared_loss, linear_loss)"
      ],
      "metadata": {
        "id": "5Dqzh9j9PHX5"
      },
      "execution_count": 25,
      "outputs": []
    },
    {
      "cell_type": "code",
      "source": [],
      "metadata": {
        "id": "OIFjMlXlSWJ5"
      },
      "execution_count": null,
      "outputs": []
    }
  ]
}